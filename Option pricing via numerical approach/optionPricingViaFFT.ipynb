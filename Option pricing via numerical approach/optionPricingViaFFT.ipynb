{
 "cells": [
  {
   "cell_type": "code",
   "execution_count": 1,
   "metadata": {
    "collapsed": true
   },
   "outputs": [],
   "source": [
    "import warnings\n",
    "warnings.filterwarnings(\"ignore\")\n",
    "\n",
    "\n",
    "import numpy as np\n",
    "import cmath\n",
    "import math\n",
    "import time"
   ]
  },
  {
   "cell_type": "code",
   "execution_count": 2,
   "metadata": {
    "collapsed": true
   },
   "outputs": [],
   "source": [
    "# Fixed Parameters\n",
    "S0 = 100\n",
    "K = 80\n",
    "k = math.log(K)\n",
    "r = 0.05\n",
    "q = 0.01\n"
   ]
  },
  {
   "cell_type": "code",
   "execution_count": 4,
   "metadata": {
    "collapsed": true
   },
   "outputs": [],
   "source": [
    "# Parameters for FFT \n",
    "\n",
    "n = 12\n",
    "N = 2**n\n",
    "\n",
    "#step-size\n",
    "eta = 0.25\n",
    "# damping factor\n",
    "alpha = 1.5\n"
   ]
  },
  {
   "cell_type": "code",
   "execution_count": 5,
   "metadata": {
    "collapsed": true
   },
   "outputs": [],
   "source": [
    "# step-size in log strike space\n",
    "lda = (2*math.pi/N)/eta;\n",
    "\n",
    "#Choice of beta\n",
    "#beta = np.log(S0)-N*lda/2\n",
    "beta = np.log(K)"
   ]
  },
  {
   "cell_type": "code",
   "execution_count": 6,
   "metadata": {
    "collapsed": true
   },
   "outputs": [],
   "source": [
    "#model-specific Parameters\n",
    "model = 'Heston'"
   ]
  },
  {
   "cell_type": "code",
   "execution_count": 7,
   "metadata": {
    "collapsed": true
   },
   "outputs": [],
   "source": [
    "params = []     \n",
    "if (model == 'GBM'):\n",
    "    \n",
    "    sig = 0.30\n",
    "    params.append(sig);\n",
    "    \n",
    "elif (model == 'VG'):\n",
    "    \n",
    "    sig = 0.3\n",
    "    nu = 0.5\n",
    "    theta = -0.4\n",
    "    #\n",
    "    params.append(sig);\n",
    "    params.append(nu);\n",
    "    params.append(theta);\n",
    "    \n",
    "elif (model == 'Heston'):\n",
    "    \n",
    "    kappa = 2.0\n",
    "    theta = 0.05\n",
    "    sig = 0.30\n",
    "    rho = -0.70\n",
    "    v0 = 0.04\n",
    "    #\n",
    "    params.append(kappa)\n",
    "    params.append(theta)\n",
    "    params.append(sig)\n",
    "    params.append(rho)\n",
    "    params.append(v0)\n",
    "    "
   ]
  },
  {
   "cell_type": "code",
   "execution_count": 8,
   "metadata": {
    "collapsed": true
   },
   "outputs": [],
   "source": [
    "def generic_CF(u, params, S0, r, q, T, model):\n",
    "    \n",
    "    if (model == 'GBM'):\n",
    "        \n",
    "        sig = params[0]\n",
    "        mu = np.log(S0) + (r-q-sig**2/2)*T\n",
    "        a = sig*np.sqrt(T)\n",
    "        phi = np.exp(1j*mu*u-(a*u)**2/2)\n",
    "        \n",
    "    elif(model == 'Heston'):\n",
    "        \n",
    "        kappa  = params[0]\n",
    "        theta  = params[1]\n",
    "        sigma  = params[2]\n",
    "        rho    = params[3]\n",
    "        v0     = params[4]\n",
    "        \n",
    "        tmp = (kappa-1j*rho*sigma*u)\n",
    "        g = np.sqrt((sigma**2)*(u**2+1j*u)+tmp**2)\n",
    "        \n",
    "        pow1 = 2*kappa*theta/(sigma**2)\n",
    "        \n",
    "        numer1 = (kappa*theta*T*tmp)/(sigma**2) + 1j*u*T*r + 1j*u*math.log(S0)\n",
    "        log_denum1 = pow1 * np.log(np.cosh(g*T/2)+(tmp/g)*np.sinh(g*T/2))\n",
    "        tmp2 = ((u*u+1j*u)*v0)/(g/np.tanh(g*T/2)+tmp)\n",
    "        log_phi = numer1 - log_denum1 - tmp2\n",
    "        phi = np.exp(log_phi)\n",
    "        \n",
    "        #g = np.sqrt((kappa-1j*rho*sigma*u)**2+(u*u+1j*u)*sigma*sigma)\n",
    "        #beta = kappa-rho*sigma*1j*u\n",
    "        #tmp = g*T/2\n",
    "        \n",
    "        #temp1 = 1j*(np.log(S0)+(r-q)*T)*u + kappa*theta*T*beta/(sigma*sigma)\n",
    "        #temp2 = -(u*u+1j*u)*v0/(g/np.tanh(tmp)+beta)\n",
    "        #temp3 = (2*kappa*theta/(sigma*sigma))*np.log(np.cosh(tmp)+(beta/g)*np.sinh(tmp))\n",
    "        \n",
    "        #phi = np.exp(temp1+temp2-temp3);\n",
    "        \n",
    "\n",
    "    elif (model == 'VG'):\n",
    "        \n",
    "        sigma  = params[0];\n",
    "        nu     = params[1];\n",
    "        theta  = params[2];\n",
    "\n",
    "        if (nu == 0):\n",
    "            mu = math.log(S0) + (r-q - theta -0.5*sigma**2)*T\n",
    "            phi  = math.exp(1j*u*mu) * math.exp((1j*theta*u-0.5*sigma**2*u**2)*T)\n",
    "        else:\n",
    "            mu  = math.log(S0) + (r-q + math.log(1-theta*nu-0.5*sigma**2*nu)/nu)*T\n",
    "            phi = cmath.exp(1j*u*mu)*((1-1j*nu*theta*u+0.5*nu*sigma**2*u**2)**(-T/nu))\n",
    "\n",
    "    return phi"
   ]
  },
  {
   "cell_type": "code",
   "execution_count": 9,
   "metadata": {
    "collapsed": true
   },
   "outputs": [],
   "source": [
    "def evaluateIntegral(params, S0, K, r, q, T, alpha, eta, n, model):\n",
    "    \n",
    "    # Just one strike at a time\n",
    "    # no need for Fast Fourier Transform\n",
    "    \n",
    "    # discount factor\n",
    "    df = math.exp(-r*T)\n",
    "    \n",
    "    sum1 = 0\n",
    "    for j in range(N):\n",
    "        nuJ = j*eta\n",
    "        psi_nuJ = df*generic_CF(nuJ-(alpha+1)*1j, params, S0, r, q, T, model)/((alpha + 1j*nuJ)*(alpha+1+1j*nuJ))\n",
    "        if j == 0:\n",
    "            wJ = (eta/2)\n",
    "        else:\n",
    "            wJ = eta\n",
    "        sum1 += np.exp(-1j*nuJ*k)*psi_nuJ*wJ\n",
    "        \n",
    "    cT_k = (np.exp(-alpha*k)/math.pi)*sum1\n",
    "    \n",
    "    return np.real(cT_k) "
   ]
  },
  {
   "cell_type": "code",
   "execution_count": 10,
   "metadata": {
    "collapsed": true
   },
   "outputs": [],
   "source": [
    "def genericFFT(params, S0, K, r, q, T, alpha, eta, n, model):\n",
    "    \n",
    "    N = 2**n\n",
    "    \n",
    "    # step-size in log strike space\n",
    "    lda = (2*np.pi/N)/eta\n",
    "    \n",
    "    #Choice of beta\n",
    "    #beta = np.log(S0)-N*lda/2\n",
    "    beta = np.log(K)\n",
    "    \n",
    "    # forming vector x and strikes km for m=1,...,N\n",
    "    km = np.zeros((N))\n",
    "    xX = np.zeros((N))\n",
    "    \n",
    "    # discount factor\n",
    "    df = math.exp(-r*T)\n",
    "    \n",
    "    nuJ = np.arange(N)*eta\n",
    "    psi_nuJ = generic_CF(nuJ-(alpha+1)*1j, params, S0, r, q, T, model)/((alpha + 1j*nuJ)*(alpha+1+1j*nuJ))\n",
    "    \n",
    "    for j in range(N):  \n",
    "        km[j] = beta+j*lda\n",
    "        if j == 0:\n",
    "            wJ = (eta/2)\n",
    "        else:\n",
    "            wJ = eta\n",
    "        xX[j] = cmath.exp(-1j*beta*nuJ[j])*df*psi_nuJ[j]*wJ\n",
    "     \n",
    "    yY = np.fft.fft(xX)\n",
    "    cT_km = np.zeros((N))  \n",
    "    for i in range(N):\n",
    "        multiplier = math.exp(-alpha*km[i])/math.pi\n",
    "        cT_km[i] = multiplier*np.real(yY[i])\n",
    "    \n",
    "    return km, cT_km\n"
   ]
  },
  {
   "cell_type": "code",
   "execution_count": 11,
   "metadata": {},
   "outputs": [
    {
     "name": "stdout",
     "output_type": "stream",
     "text": [
      " \n",
      "===================\n",
      "Model is Heston\n",
      "-------------------\n",
      " \n",
      "Option via FFT: for strike 80.0 the option premium is 25.2428\n",
      "FFT execution time was 0.0159881\n",
      " \n",
      "Option via Integration: for strike 80.0 the option premium is 25.2428\n",
      "Evaluation of integral time was 0.0646305\n"
     ]
    }
   ],
   "source": [
    "print(' ')\n",
    "print('===================')\n",
    "print('Model is %s' % model)\n",
    "print('-------------------')\n",
    "    \n",
    "T = 1\n",
    "    \n",
    "print(' ')\n",
    "start_time = time.time()\n",
    "km, cT_km = genericFFT(params, S0, K, r, q, T, alpha, eta, n, model)\n",
    "cT_k = cT_km[0]\n",
    "\n",
    "\n",
    "elapsed_time = time.time() - start_time\n",
    "    \n",
    "#cT_k = np.interp(np.log(), km, cT_km)\n",
    "print(\"Option via FFT: for strike %s the option premium is %6.4f\" % (np.exp(k), cT_k))\n",
    "#print(\"Option via FFT: for strike %s the option premium is %6.4f\" % (np.exp(k), cT_km[0]))\n",
    "print('FFT execution time was %0.7f' % elapsed_time)\n",
    "    \n",
    "print(' ')\n",
    "start_time = time.time()\n",
    "cT_k = evaluateIntegral(params, S0, K, r, q, T, alpha, eta, n, model)\n",
    "elapsed_time = time.time() - start_time\n",
    "print(\"Option via Integration: for strike %s the option premium is %6.4f\" % (np.exp(k), cT_k))\n",
    "print('Evaluation of integral time was %0.7f' % elapsed_time)"
   ]
  },
  {
   "cell_type": "code",
   "execution_count": null,
   "metadata": {
    "collapsed": true
   },
   "outputs": [],
   "source": []
  },
  {
   "cell_type": "code",
   "execution_count": null,
   "metadata": {
    "collapsed": true
   },
   "outputs": [],
   "source": []
  }
 ],
 "metadata": {
  "kernelspec": {
   "display_name": "Python 3",
   "language": "python",
   "name": "python3"
  },
  "language_info": {
   "codemirror_mode": {
    "name": "ipython",
    "version": 3
   },
   "file_extension": ".py",
   "mimetype": "text/x-python",
   "name": "python",
   "nbconvert_exporter": "python",
   "pygments_lexer": "ipython3",
   "version": "3.6.3"
  }
 },
 "nbformat": 4,
 "nbformat_minor": 2
}
